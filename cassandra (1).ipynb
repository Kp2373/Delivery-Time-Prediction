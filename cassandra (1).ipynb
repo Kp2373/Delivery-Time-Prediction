{
 "cells": [
  {
   "cell_type": "code",
   "execution_count": 1,
   "metadata": {
    "_cell_guid": "82bf6888-2b61-4a55-8ca8-2cb889eb7065",
    "_uuid": "ffe80a95-d22a-40a3-ad89-6ec641420e1f",
    "execution": {
     "iopub.execute_input": "2023-04-04T20:02:58.804019Z",
     "iopub.status.busy": "2023-04-04T20:02:58.802092Z",
     "iopub.status.idle": "2023-04-04T20:02:58.820948Z",
     "shell.execute_reply": "2023-04-04T20:02:58.819633Z",
     "shell.execute_reply.started": "2023-04-04T20:02:58.803970Z"
    },
    "jupyter": {
     "outputs_hidden": false
    }
   },
   "outputs": [
    {
     "name": "stdout",
     "output_type": "stream",
     "text": [
      "/kaggle/input/delhivery-datacsv/delhivery_data.csv\n",
      "/kaggle/input/cassandra23-ps-2/dataset/sample_submissions.csv\n",
      "/kaggle/input/cassandra23-ps-2/dataset/train_data.csv\n",
      "/kaggle/input/cassandra23-ps-2/dataset/test_data.csv\n"
     ]
    }
   ],
   "source": [
    "# This Python 3 environment comes with many helpful analytics libraries installed\n",
    "# It is defined by the kaggle/python Docker image: https://github.com/kaggle/docker-python\n",
    "# For example, here's several helpful packages to load\n",
    "\n",
    "import numpy as np # linear algebra\n",
    "import pandas as pd # data processing, CSV file I/O (e.g. pd.read_csv)\n",
    "\n",
    "# Input data files are available in the read-only \"../input/\" directory\n",
    "# For example, running this (by clicking run or pressing Shift+Enter) will list all files under the input directory\n",
    "\n",
    "import os\n",
    "for dirname, _, filenames in os.walk('/kaggle/input'):\n",
    "    for filename in filenames:\n",
    "        print(os.path.join(dirname, filename))\n",
    "\n",
    "# You can write up to 20GB to the current directory (/kaggle/working/) that gets preserved as output when you create a version using \"Save & Run All\" \n",
    "# You can also write temporary files to /kaggle/temp/, but they won't be saved outside of the current session"
   ]
  },
  {
   "cell_type": "code",
   "execution_count": 3,
   "metadata": {
    "_cell_guid": "dc3d6c4f-a150-4898-a35d-e189853d6301",
    "_uuid": "632a91ba-7122-4636-a8af-3b768b48ab82",
    "execution": {
     "iopub.execute_input": "2023-04-04T20:03:39.651444Z",
     "iopub.status.busy": "2023-04-04T20:03:39.650641Z",
     "iopub.status.idle": "2023-04-04T20:03:41.112008Z",
     "shell.execute_reply": "2023-04-04T20:03:41.110778Z",
     "shell.execute_reply.started": "2023-04-04T20:03:39.651384Z"
    },
    "jupyter": {
     "outputs_hidden": false
    }
   },
   "outputs": [],
   "source": [
    "train_df=pd.read_csv(\"/kaggle/input/delhivery-datacsv/delhivery_data.csv\")"
   ]
  },
  {
   "cell_type": "code",
   "execution_count": 4,
   "metadata": {
    "execution": {
     "iopub.execute_input": "2023-04-04T20:03:49.208546Z",
     "iopub.status.busy": "2023-04-04T20:03:49.207708Z",
     "iopub.status.idle": "2023-04-04T20:03:49.319648Z",
     "shell.execute_reply": "2023-04-04T20:03:49.318461Z",
     "shell.execute_reply.started": "2023-04-04T20:03:49.208495Z"
    }
   },
   "outputs": [
    {
     "name": "stdout",
     "output_type": "stream",
     "text": [
      "<class 'pandas.core.frame.DataFrame'>\n",
      "RangeIndex: 144867 entries, 0 to 144866\n",
      "Data columns (total 24 columns):\n",
      " #   Column                          Non-Null Count   Dtype  \n",
      "---  ------                          --------------   -----  \n",
      " 0   data                            144867 non-null  object \n",
      " 1   trip_creation_time              144867 non-null  object \n",
      " 2   route_schedule_uuid             144867 non-null  object \n",
      " 3   route_type                      144867 non-null  object \n",
      " 4   trip_uuid                       144867 non-null  object \n",
      " 5   source_center                   144867 non-null  object \n",
      " 6   source_name                     144574 non-null  object \n",
      " 7   destination_center              144867 non-null  object \n",
      " 8   destination_name                144606 non-null  object \n",
      " 9   od_start_time                   144867 non-null  object \n",
      " 10  od_end_time                     144867 non-null  object \n",
      " 11  start_scan_to_end_scan          144867 non-null  float64\n",
      " 12  is_cutoff                       144867 non-null  bool   \n",
      " 13  cutoff_factor                   144867 non-null  int64  \n",
      " 14  cutoff_timestamp                144867 non-null  object \n",
      " 15  actual_distance_to_destination  144867 non-null  float64\n",
      " 16  actual_time                     144867 non-null  float64\n",
      " 17  osrm_time                       144867 non-null  float64\n",
      " 18  osrm_distance                   144867 non-null  float64\n",
      " 19  factor                          144867 non-null  float64\n",
      " 20  segment_actual_time             144867 non-null  float64\n",
      " 21  segment_osrm_time               144867 non-null  float64\n",
      " 22  segment_osrm_distance           144867 non-null  float64\n",
      " 23  segment_factor                  144867 non-null  float64\n",
      "dtypes: bool(1), float64(10), int64(1), object(12)\n",
      "memory usage: 25.6+ MB\n"
     ]
    }
   ],
   "source": [
    "train_df.info()"
   ]
  },
  {
   "cell_type": "code",
   "execution_count": 5,
   "metadata": {
    "execution": {
     "iopub.execute_input": "2023-04-04T20:04:48.677213Z",
     "iopub.status.busy": "2023-04-04T20:04:48.676786Z",
     "iopub.status.idle": "2023-04-04T20:04:48.682919Z",
     "shell.execute_reply": "2023-04-04T20:04:48.681633Z",
     "shell.execute_reply.started": "2023-04-04T20:04:48.677177Z"
    }
   },
   "outputs": [],
   "source": [
    "numerical_cols=[\"start_scan_to_end_scan\",\"cutoff_factor\",\"actual_distance_to_destination\",\"factor\",\"segment_actual_time\",\"segment_osrm_time\",\"segment_osrm_distance\",\"segment_factor\"]"
   ]
  },
  {
   "cell_type": "code",
   "execution_count": null,
   "metadata": {
    "_cell_guid": "2a1e47f1-6872-47f9-a4b5-f55da292326c",
    "_uuid": "c30afba9-3eb2-4c02-b70e-62e544249b6a",
    "jupyter": {
     "outputs_hidden": false
    }
   },
   "outputs": [],
   "source": [
    "train_df.describe()"
   ]
  },
  {
   "cell_type": "code",
   "execution_count": null,
   "metadata": {},
   "outputs": [],
   "source": [
    "outliers=[]\n",
    "def detect_outliers(data):\n",
    "    threshold=3\n",
    "    mean=np.mean(data)\n",
    "    std=np.std(data)\n",
    "    \n",
    "    for i in data:\n",
    "        z_score=(i-mean)/std\n",
    "        if np.abs(z_score)>threshold:\n",
    "            outliers.append(i)\n",
    "        \n",
    "    return outliers\n",
    "        "
   ]
  },
  {
   "cell_type": "code",
   "execution_count": null,
   "metadata": {},
   "outputs": [],
   "source": [
    "outlier_point=detect_outliers(train_df[\"actual_time\"])"
   ]
  },
  {
   "cell_type": "code",
   "execution_count": null,
   "metadata": {},
   "outputs": [],
   "source": [
    "len(outlier_point)"
   ]
  },
  {
   "cell_type": "code",
   "execution_count": null,
   "metadata": {},
   "outputs": [],
   "source": [
    "import seaborn as sns\n",
    "sns.boxplot(train_df[\"actual_time\"])"
   ]
  },
  {
   "cell_type": "code",
   "execution_count": null,
   "metadata": {},
   "outputs": [],
   "source": [
    "indexNames = train_df[train_df[\"actual_time\"].isin(outlier_point)].index\n",
    "train_df.drop(indexNames,inplace=True)"
   ]
  },
  {
   "cell_type": "code",
   "execution_count": null,
   "metadata": {},
   "outputs": [],
   "source": [
    "len(indexNames)"
   ]
  },
  {
   "cell_type": "code",
   "execution_count": null,
   "metadata": {},
   "outputs": [],
   "source": [
    "len(train_df)"
   ]
  },
  {
   "cell_type": "code",
   "execution_count": 6,
   "metadata": {
    "execution": {
     "iopub.execute_input": "2023-04-04T20:05:02.449509Z",
     "iopub.status.busy": "2023-04-04T20:05:02.449063Z",
     "iopub.status.idle": "2023-04-04T20:05:02.651103Z",
     "shell.execute_reply": "2023-04-04T20:05:02.649846Z",
     "shell.execute_reply.started": "2023-04-04T20:05:02.449472Z"
    }
   },
   "outputs": [
    {
     "data": {
      "text/html": [
       "<div>\n",
       "<style scoped>\n",
       "    .dataframe tbody tr th:only-of-type {\n",
       "        vertical-align: middle;\n",
       "    }\n",
       "\n",
       "    .dataframe tbody tr th {\n",
       "        vertical-align: top;\n",
       "    }\n",
       "\n",
       "    .dataframe thead th {\n",
       "        text-align: right;\n",
       "    }\n",
       "</style>\n",
       "<table border=\"1\" class=\"dataframe\">\n",
       "  <thead>\n",
       "    <tr style=\"text-align: right;\">\n",
       "      <th></th>\n",
       "      <th>data</th>\n",
       "      <th>trip_creation_time</th>\n",
       "      <th>route_schedule_uuid</th>\n",
       "      <th>route_type</th>\n",
       "      <th>trip_uuid</th>\n",
       "      <th>source_center</th>\n",
       "      <th>source_name</th>\n",
       "      <th>destination_center</th>\n",
       "      <th>destination_name</th>\n",
       "      <th>od_start_time</th>\n",
       "      <th>...</th>\n",
       "      <th>cutoff_factor</th>\n",
       "      <th>cutoff_timestamp</th>\n",
       "      <th>actual_distance_to_destination</th>\n",
       "      <th>osrm_time</th>\n",
       "      <th>osrm_distance</th>\n",
       "      <th>factor</th>\n",
       "      <th>segment_actual_time</th>\n",
       "      <th>segment_osrm_time</th>\n",
       "      <th>segment_osrm_distance</th>\n",
       "      <th>segment_factor</th>\n",
       "    </tr>\n",
       "  </thead>\n",
       "  <tbody>\n",
       "    <tr>\n",
       "      <th>0</th>\n",
       "      <td>training</td>\n",
       "      <td>2018-09-20 02:35:36.476840</td>\n",
       "      <td>thanos::sroute:eb7bfc78-b351-4c0e-a951-fa3d5c3...</td>\n",
       "      <td>Carting</td>\n",
       "      <td>trip-153741093647649320</td>\n",
       "      <td>IND388121AAA</td>\n",
       "      <td>Anand_VUNagar_DC (Gujarat)</td>\n",
       "      <td>IND388620AAB</td>\n",
       "      <td>Khambhat_MotvdDPP_D (Gujarat)</td>\n",
       "      <td>2018-09-20 03:21:32.418600</td>\n",
       "      <td>...</td>\n",
       "      <td>9</td>\n",
       "      <td>2018-09-20 04:27:55</td>\n",
       "      <td>10.435660</td>\n",
       "      <td>11.0</td>\n",
       "      <td>11.9653</td>\n",
       "      <td>1.272727</td>\n",
       "      <td>14.0</td>\n",
       "      <td>11.0</td>\n",
       "      <td>11.9653</td>\n",
       "      <td>1.272727</td>\n",
       "    </tr>\n",
       "    <tr>\n",
       "      <th>1</th>\n",
       "      <td>training</td>\n",
       "      <td>2018-09-20 02:35:36.476840</td>\n",
       "      <td>thanos::sroute:eb7bfc78-b351-4c0e-a951-fa3d5c3...</td>\n",
       "      <td>Carting</td>\n",
       "      <td>trip-153741093647649320</td>\n",
       "      <td>IND388121AAA</td>\n",
       "      <td>Anand_VUNagar_DC (Gujarat)</td>\n",
       "      <td>IND388620AAB</td>\n",
       "      <td>Khambhat_MotvdDPP_D (Gujarat)</td>\n",
       "      <td>2018-09-20 03:21:32.418600</td>\n",
       "      <td>...</td>\n",
       "      <td>18</td>\n",
       "      <td>2018-09-20 04:17:55</td>\n",
       "      <td>18.936842</td>\n",
       "      <td>20.0</td>\n",
       "      <td>21.7243</td>\n",
       "      <td>1.200000</td>\n",
       "      <td>10.0</td>\n",
       "      <td>9.0</td>\n",
       "      <td>9.7590</td>\n",
       "      <td>1.111111</td>\n",
       "    </tr>\n",
       "    <tr>\n",
       "      <th>2</th>\n",
       "      <td>training</td>\n",
       "      <td>2018-09-20 02:35:36.476840</td>\n",
       "      <td>thanos::sroute:eb7bfc78-b351-4c0e-a951-fa3d5c3...</td>\n",
       "      <td>Carting</td>\n",
       "      <td>trip-153741093647649320</td>\n",
       "      <td>IND388121AAA</td>\n",
       "      <td>Anand_VUNagar_DC (Gujarat)</td>\n",
       "      <td>IND388620AAB</td>\n",
       "      <td>Khambhat_MotvdDPP_D (Gujarat)</td>\n",
       "      <td>2018-09-20 03:21:32.418600</td>\n",
       "      <td>...</td>\n",
       "      <td>27</td>\n",
       "      <td>2018-09-20 04:01:19.505586</td>\n",
       "      <td>27.637279</td>\n",
       "      <td>28.0</td>\n",
       "      <td>32.5395</td>\n",
       "      <td>1.428571</td>\n",
       "      <td>16.0</td>\n",
       "      <td>7.0</td>\n",
       "      <td>10.8152</td>\n",
       "      <td>2.285714</td>\n",
       "    </tr>\n",
       "    <tr>\n",
       "      <th>3</th>\n",
       "      <td>training</td>\n",
       "      <td>2018-09-20 02:35:36.476840</td>\n",
       "      <td>thanos::sroute:eb7bfc78-b351-4c0e-a951-fa3d5c3...</td>\n",
       "      <td>Carting</td>\n",
       "      <td>trip-153741093647649320</td>\n",
       "      <td>IND388121AAA</td>\n",
       "      <td>Anand_VUNagar_DC (Gujarat)</td>\n",
       "      <td>IND388620AAB</td>\n",
       "      <td>Khambhat_MotvdDPP_D (Gujarat)</td>\n",
       "      <td>2018-09-20 03:21:32.418600</td>\n",
       "      <td>...</td>\n",
       "      <td>36</td>\n",
       "      <td>2018-09-20 03:39:57</td>\n",
       "      <td>36.118028</td>\n",
       "      <td>40.0</td>\n",
       "      <td>45.5620</td>\n",
       "      <td>1.550000</td>\n",
       "      <td>21.0</td>\n",
       "      <td>12.0</td>\n",
       "      <td>13.0224</td>\n",
       "      <td>1.750000</td>\n",
       "    </tr>\n",
       "    <tr>\n",
       "      <th>4</th>\n",
       "      <td>training</td>\n",
       "      <td>2018-09-20 02:35:36.476840</td>\n",
       "      <td>thanos::sroute:eb7bfc78-b351-4c0e-a951-fa3d5c3...</td>\n",
       "      <td>Carting</td>\n",
       "      <td>trip-153741093647649320</td>\n",
       "      <td>IND388121AAA</td>\n",
       "      <td>Anand_VUNagar_DC (Gujarat)</td>\n",
       "      <td>IND388620AAB</td>\n",
       "      <td>Khambhat_MotvdDPP_D (Gujarat)</td>\n",
       "      <td>2018-09-20 03:21:32.418600</td>\n",
       "      <td>...</td>\n",
       "      <td>39</td>\n",
       "      <td>2018-09-20 03:33:55</td>\n",
       "      <td>39.386040</td>\n",
       "      <td>44.0</td>\n",
       "      <td>54.2181</td>\n",
       "      <td>1.545455</td>\n",
       "      <td>6.0</td>\n",
       "      <td>5.0</td>\n",
       "      <td>3.9153</td>\n",
       "      <td>1.200000</td>\n",
       "    </tr>\n",
       "    <tr>\n",
       "      <th>...</th>\n",
       "      <td>...</td>\n",
       "      <td>...</td>\n",
       "      <td>...</td>\n",
       "      <td>...</td>\n",
       "      <td>...</td>\n",
       "      <td>...</td>\n",
       "      <td>...</td>\n",
       "      <td>...</td>\n",
       "      <td>...</td>\n",
       "      <td>...</td>\n",
       "      <td>...</td>\n",
       "      <td>...</td>\n",
       "      <td>...</td>\n",
       "      <td>...</td>\n",
       "      <td>...</td>\n",
       "      <td>...</td>\n",
       "      <td>...</td>\n",
       "      <td>...</td>\n",
       "      <td>...</td>\n",
       "      <td>...</td>\n",
       "      <td>...</td>\n",
       "    </tr>\n",
       "    <tr>\n",
       "      <th>144862</th>\n",
       "      <td>training</td>\n",
       "      <td>2018-09-20 16:24:28.436231</td>\n",
       "      <td>thanos::sroute:f0569d2f-4e20-4c31-8542-67b86d5...</td>\n",
       "      <td>Carting</td>\n",
       "      <td>trip-153746066843555182</td>\n",
       "      <td>IND131028AAB</td>\n",
       "      <td>Sonipat_Kundli_H (Haryana)</td>\n",
       "      <td>IND000000ACB</td>\n",
       "      <td>Gurgaon_Bilaspur_HB (Haryana)</td>\n",
       "      <td>2018-09-20 16:24:28.436231</td>\n",
       "      <td>...</td>\n",
       "      <td>45</td>\n",
       "      <td>2018-09-20 21:57:20</td>\n",
       "      <td>45.258278</td>\n",
       "      <td>60.0</td>\n",
       "      <td>67.9280</td>\n",
       "      <td>1.566667</td>\n",
       "      <td>12.0</td>\n",
       "      <td>12.0</td>\n",
       "      <td>8.1858</td>\n",
       "      <td>1.000000</td>\n",
       "    </tr>\n",
       "    <tr>\n",
       "      <th>144863</th>\n",
       "      <td>training</td>\n",
       "      <td>2018-09-20 16:24:28.436231</td>\n",
       "      <td>thanos::sroute:f0569d2f-4e20-4c31-8542-67b86d5...</td>\n",
       "      <td>Carting</td>\n",
       "      <td>trip-153746066843555182</td>\n",
       "      <td>IND131028AAB</td>\n",
       "      <td>Sonipat_Kundli_H (Haryana)</td>\n",
       "      <td>IND000000ACB</td>\n",
       "      <td>Gurgaon_Bilaspur_HB (Haryana)</td>\n",
       "      <td>2018-09-20 16:24:28.436231</td>\n",
       "      <td>...</td>\n",
       "      <td>54</td>\n",
       "      <td>2018-09-20 21:31:18</td>\n",
       "      <td>54.092531</td>\n",
       "      <td>76.0</td>\n",
       "      <td>85.6829</td>\n",
       "      <td>1.578947</td>\n",
       "      <td>26.0</td>\n",
       "      <td>21.0</td>\n",
       "      <td>17.3725</td>\n",
       "      <td>1.238095</td>\n",
       "    </tr>\n",
       "    <tr>\n",
       "      <th>144864</th>\n",
       "      <td>training</td>\n",
       "      <td>2018-09-20 16:24:28.436231</td>\n",
       "      <td>thanos::sroute:f0569d2f-4e20-4c31-8542-67b86d5...</td>\n",
       "      <td>Carting</td>\n",
       "      <td>trip-153746066843555182</td>\n",
       "      <td>IND131028AAB</td>\n",
       "      <td>Sonipat_Kundli_H (Haryana)</td>\n",
       "      <td>IND000000ACB</td>\n",
       "      <td>Gurgaon_Bilaspur_HB (Haryana)</td>\n",
       "      <td>2018-09-20 16:24:28.436231</td>\n",
       "      <td>...</td>\n",
       "      <td>63</td>\n",
       "      <td>2018-09-20 21:11:18</td>\n",
       "      <td>66.163591</td>\n",
       "      <td>88.0</td>\n",
       "      <td>97.0933</td>\n",
       "      <td>1.590909</td>\n",
       "      <td>20.0</td>\n",
       "      <td>34.0</td>\n",
       "      <td>20.7053</td>\n",
       "      <td>0.588235</td>\n",
       "    </tr>\n",
       "    <tr>\n",
       "      <th>144865</th>\n",
       "      <td>training</td>\n",
       "      <td>2018-09-20 16:24:28.436231</td>\n",
       "      <td>thanos::sroute:f0569d2f-4e20-4c31-8542-67b86d5...</td>\n",
       "      <td>Carting</td>\n",
       "      <td>trip-153746066843555182</td>\n",
       "      <td>IND131028AAB</td>\n",
       "      <td>Sonipat_Kundli_H (Haryana)</td>\n",
       "      <td>IND000000ACB</td>\n",
       "      <td>Gurgaon_Bilaspur_HB (Haryana)</td>\n",
       "      <td>2018-09-20 16:24:28.436231</td>\n",
       "      <td>...</td>\n",
       "      <td>72</td>\n",
       "      <td>2018-09-20 20:53:19</td>\n",
       "      <td>73.680667</td>\n",
       "      <td>98.0</td>\n",
       "      <td>111.2709</td>\n",
       "      <td>1.612245</td>\n",
       "      <td>17.0</td>\n",
       "      <td>27.0</td>\n",
       "      <td>18.8885</td>\n",
       "      <td>0.629630</td>\n",
       "    </tr>\n",
       "    <tr>\n",
       "      <th>144866</th>\n",
       "      <td>training</td>\n",
       "      <td>2018-09-20 16:24:28.436231</td>\n",
       "      <td>thanos::sroute:f0569d2f-4e20-4c31-8542-67b86d5...</td>\n",
       "      <td>Carting</td>\n",
       "      <td>trip-153746066843555182</td>\n",
       "      <td>IND131028AAB</td>\n",
       "      <td>Sonipat_Kundli_H (Haryana)</td>\n",
       "      <td>IND000000ACB</td>\n",
       "      <td>Gurgaon_Bilaspur_HB (Haryana)</td>\n",
       "      <td>2018-09-20 16:24:28.436231</td>\n",
       "      <td>...</td>\n",
       "      <td>70</td>\n",
       "      <td>2018-09-20 16:24:28.436231</td>\n",
       "      <td>70.039010</td>\n",
       "      <td>95.0</td>\n",
       "      <td>88.7319</td>\n",
       "      <td>4.484211</td>\n",
       "      <td>268.0</td>\n",
       "      <td>9.0</td>\n",
       "      <td>8.8088</td>\n",
       "      <td>29.777778</td>\n",
       "    </tr>\n",
       "  </tbody>\n",
       "</table>\n",
       "<p>144867 rows × 23 columns</p>\n",
       "</div>"
      ],
      "text/plain": [
       "            data          trip_creation_time  \\\n",
       "0       training  2018-09-20 02:35:36.476840   \n",
       "1       training  2018-09-20 02:35:36.476840   \n",
       "2       training  2018-09-20 02:35:36.476840   \n",
       "3       training  2018-09-20 02:35:36.476840   \n",
       "4       training  2018-09-20 02:35:36.476840   \n",
       "...          ...                         ...   \n",
       "144862  training  2018-09-20 16:24:28.436231   \n",
       "144863  training  2018-09-20 16:24:28.436231   \n",
       "144864  training  2018-09-20 16:24:28.436231   \n",
       "144865  training  2018-09-20 16:24:28.436231   \n",
       "144866  training  2018-09-20 16:24:28.436231   \n",
       "\n",
       "                                      route_schedule_uuid route_type  \\\n",
       "0       thanos::sroute:eb7bfc78-b351-4c0e-a951-fa3d5c3...    Carting   \n",
       "1       thanos::sroute:eb7bfc78-b351-4c0e-a951-fa3d5c3...    Carting   \n",
       "2       thanos::sroute:eb7bfc78-b351-4c0e-a951-fa3d5c3...    Carting   \n",
       "3       thanos::sroute:eb7bfc78-b351-4c0e-a951-fa3d5c3...    Carting   \n",
       "4       thanos::sroute:eb7bfc78-b351-4c0e-a951-fa3d5c3...    Carting   \n",
       "...                                                   ...        ...   \n",
       "144862  thanos::sroute:f0569d2f-4e20-4c31-8542-67b86d5...    Carting   \n",
       "144863  thanos::sroute:f0569d2f-4e20-4c31-8542-67b86d5...    Carting   \n",
       "144864  thanos::sroute:f0569d2f-4e20-4c31-8542-67b86d5...    Carting   \n",
       "144865  thanos::sroute:f0569d2f-4e20-4c31-8542-67b86d5...    Carting   \n",
       "144866  thanos::sroute:f0569d2f-4e20-4c31-8542-67b86d5...    Carting   \n",
       "\n",
       "                      trip_uuid source_center                 source_name  \\\n",
       "0       trip-153741093647649320  IND388121AAA  Anand_VUNagar_DC (Gujarat)   \n",
       "1       trip-153741093647649320  IND388121AAA  Anand_VUNagar_DC (Gujarat)   \n",
       "2       trip-153741093647649320  IND388121AAA  Anand_VUNagar_DC (Gujarat)   \n",
       "3       trip-153741093647649320  IND388121AAA  Anand_VUNagar_DC (Gujarat)   \n",
       "4       trip-153741093647649320  IND388121AAA  Anand_VUNagar_DC (Gujarat)   \n",
       "...                         ...           ...                         ...   \n",
       "144862  trip-153746066843555182  IND131028AAB  Sonipat_Kundli_H (Haryana)   \n",
       "144863  trip-153746066843555182  IND131028AAB  Sonipat_Kundli_H (Haryana)   \n",
       "144864  trip-153746066843555182  IND131028AAB  Sonipat_Kundli_H (Haryana)   \n",
       "144865  trip-153746066843555182  IND131028AAB  Sonipat_Kundli_H (Haryana)   \n",
       "144866  trip-153746066843555182  IND131028AAB  Sonipat_Kundli_H (Haryana)   \n",
       "\n",
       "       destination_center               destination_name  \\\n",
       "0            IND388620AAB  Khambhat_MotvdDPP_D (Gujarat)   \n",
       "1            IND388620AAB  Khambhat_MotvdDPP_D (Gujarat)   \n",
       "2            IND388620AAB  Khambhat_MotvdDPP_D (Gujarat)   \n",
       "3            IND388620AAB  Khambhat_MotvdDPP_D (Gujarat)   \n",
       "4            IND388620AAB  Khambhat_MotvdDPP_D (Gujarat)   \n",
       "...                   ...                            ...   \n",
       "144862       IND000000ACB  Gurgaon_Bilaspur_HB (Haryana)   \n",
       "144863       IND000000ACB  Gurgaon_Bilaspur_HB (Haryana)   \n",
       "144864       IND000000ACB  Gurgaon_Bilaspur_HB (Haryana)   \n",
       "144865       IND000000ACB  Gurgaon_Bilaspur_HB (Haryana)   \n",
       "144866       IND000000ACB  Gurgaon_Bilaspur_HB (Haryana)   \n",
       "\n",
       "                     od_start_time  ... cutoff_factor  \\\n",
       "0       2018-09-20 03:21:32.418600  ...             9   \n",
       "1       2018-09-20 03:21:32.418600  ...            18   \n",
       "2       2018-09-20 03:21:32.418600  ...            27   \n",
       "3       2018-09-20 03:21:32.418600  ...            36   \n",
       "4       2018-09-20 03:21:32.418600  ...            39   \n",
       "...                            ...  ...           ...   \n",
       "144862  2018-09-20 16:24:28.436231  ...            45   \n",
       "144863  2018-09-20 16:24:28.436231  ...            54   \n",
       "144864  2018-09-20 16:24:28.436231  ...            63   \n",
       "144865  2018-09-20 16:24:28.436231  ...            72   \n",
       "144866  2018-09-20 16:24:28.436231  ...            70   \n",
       "\n",
       "                  cutoff_timestamp  actual_distance_to_destination  osrm_time  \\\n",
       "0              2018-09-20 04:27:55                       10.435660       11.0   \n",
       "1              2018-09-20 04:17:55                       18.936842       20.0   \n",
       "2       2018-09-20 04:01:19.505586                       27.637279       28.0   \n",
       "3              2018-09-20 03:39:57                       36.118028       40.0   \n",
       "4              2018-09-20 03:33:55                       39.386040       44.0   \n",
       "...                            ...                             ...        ...   \n",
       "144862         2018-09-20 21:57:20                       45.258278       60.0   \n",
       "144863         2018-09-20 21:31:18                       54.092531       76.0   \n",
       "144864         2018-09-20 21:11:18                       66.163591       88.0   \n",
       "144865         2018-09-20 20:53:19                       73.680667       98.0   \n",
       "144866  2018-09-20 16:24:28.436231                       70.039010       95.0   \n",
       "\n",
       "       osrm_distance    factor  segment_actual_time  segment_osrm_time  \\\n",
       "0            11.9653  1.272727                 14.0               11.0   \n",
       "1            21.7243  1.200000                 10.0                9.0   \n",
       "2            32.5395  1.428571                 16.0                7.0   \n",
       "3            45.5620  1.550000                 21.0               12.0   \n",
       "4            54.2181  1.545455                  6.0                5.0   \n",
       "...              ...       ...                  ...                ...   \n",
       "144862       67.9280  1.566667                 12.0               12.0   \n",
       "144863       85.6829  1.578947                 26.0               21.0   \n",
       "144864       97.0933  1.590909                 20.0               34.0   \n",
       "144865      111.2709  1.612245                 17.0               27.0   \n",
       "144866       88.7319  4.484211                268.0                9.0   \n",
       "\n",
       "        segment_osrm_distance  segment_factor  \n",
       "0                     11.9653        1.272727  \n",
       "1                      9.7590        1.111111  \n",
       "2                     10.8152        2.285714  \n",
       "3                     13.0224        1.750000  \n",
       "4                      3.9153        1.200000  \n",
       "...                       ...             ...  \n",
       "144862                 8.1858        1.000000  \n",
       "144863                17.3725        1.238095  \n",
       "144864                20.7053        0.588235  \n",
       "144865                18.8885        0.629630  \n",
       "144866                 8.8088       29.777778  \n",
       "\n",
       "[144867 rows x 23 columns]"
      ]
     },
     "execution_count": 6,
     "metadata": {},
     "output_type": "execute_result"
    }
   ],
   "source": [
    "X=train_df.drop(\"actual_time\",axis=1)\n",
    "X"
   ]
  },
  {
   "cell_type": "code",
   "execution_count": null,
   "metadata": {},
   "outputs": [],
   "source": [
    "train_df.info()"
   ]
  },
  {
   "cell_type": "code",
   "execution_count": null,
   "metadata": {},
   "outputs": [],
   "source": [
    "numerical_cols=[\"start_scan_to_end_scan\",\"cutoff_factor\",\"actual_distance_to_destination\",\"factor\",\"segment_actual_time\",\"segment_osrm_time\",\"segment_osrm_distance\",\"segment_factor\"]"
   ]
  },
  {
   "cell_type": "code",
   "execution_count": null,
   "metadata": {},
   "outputs": [],
   "source": [
    "train_df[\"od_start_time\"].value_counts()"
   ]
  },
  {
   "cell_type": "code",
   "execution_count": 7,
   "metadata": {
    "execution": {
     "iopub.execute_input": "2023-04-04T20:05:11.449769Z",
     "iopub.status.busy": "2023-04-04T20:05:11.448494Z",
     "iopub.status.idle": "2023-04-04T20:05:11.459327Z",
     "shell.execute_reply": "2023-04-04T20:05:11.458079Z",
     "shell.execute_reply.started": "2023-04-04T20:05:11.449708Z"
    }
   },
   "outputs": [
    {
     "data": {
      "text/plain": [
       "0          14.0\n",
       "1          24.0\n",
       "2          40.0\n",
       "3          62.0\n",
       "4          68.0\n",
       "          ...  \n",
       "144862     94.0\n",
       "144863    120.0\n",
       "144864    140.0\n",
       "144865    158.0\n",
       "144866    426.0\n",
       "Name: actual_time, Length: 144867, dtype: float64"
      ]
     },
     "execution_count": 7,
     "metadata": {},
     "output_type": "execute_result"
    }
   ],
   "source": [
    "y=train_df[\"actual_time\"]\n",
    "y"
   ]
  },
  {
   "cell_type": "code",
   "execution_count": null,
   "metadata": {},
   "outputs": [],
   "source": [
    "import xgboost as xg\n",
    "from xgboost import XGBRegressor"
   ]
  },
  {
   "cell_type": "code",
   "execution_count": 8,
   "metadata": {
    "execution": {
     "iopub.execute_input": "2023-04-04T20:05:31.524537Z",
     "iopub.status.busy": "2023-04-04T20:05:31.523417Z",
     "iopub.status.idle": "2023-04-04T20:05:32.010339Z",
     "shell.execute_reply": "2023-04-04T20:05:32.009065Z",
     "shell.execute_reply.started": "2023-04-04T20:05:31.524479Z"
    }
   },
   "outputs": [],
   "source": [
    "from sklearn.model_selection import train_test_split"
   ]
  },
  {
   "cell_type": "code",
   "execution_count": 9,
   "metadata": {
    "execution": {
     "iopub.execute_input": "2023-04-04T20:05:34.751644Z",
     "iopub.status.busy": "2023-04-04T20:05:34.751213Z",
     "iopub.status.idle": "2023-04-04T20:05:34.887769Z",
     "shell.execute_reply": "2023-04-04T20:05:34.886469Z",
     "shell.execute_reply.started": "2023-04-04T20:05:34.751610Z"
    }
   },
   "outputs": [],
   "source": [
    "train_X, val_X, train_y, val_y = train_test_split(X, y,\n",
    "                      test_size = 0.2, random_state = 0)"
   ]
  },
  {
   "cell_type": "code",
   "execution_count": null,
   "metadata": {},
   "outputs": [],
   "source": [
    "len(train_X)"
   ]
  },
  {
   "cell_type": "code",
   "execution_count": null,
   "metadata": {},
   "outputs": [],
   "source": [
    "len(train_df[\"source_center\"].value_counts())"
   ]
  },
  {
   "cell_type": "code",
   "execution_count": null,
   "metadata": {},
   "outputs": [],
   "source": [
    "train_X.info()"
   ]
  },
  {
   "cell_type": "code",
   "execution_count": null,
   "metadata": {},
   "outputs": [],
   "source": [
    "train_X[numerical_cols].isna().value_counts()"
   ]
  },
  {
   "cell_type": "code",
   "execution_count": null,
   "metadata": {},
   "outputs": [],
   "source": [
    "train_X[\"route_type\"].value_counts()"
   ]
  },
  {
   "cell_type": "code",
   "execution_count": 10,
   "metadata": {
    "execution": {
     "iopub.execute_input": "2023-04-04T20:05:47.419076Z",
     "iopub.status.busy": "2023-04-04T20:05:47.418702Z",
     "iopub.status.idle": "2023-04-04T20:05:47.424373Z",
     "shell.execute_reply": "2023-04-04T20:05:47.423225Z",
     "shell.execute_reply.started": "2023-04-04T20:05:47.419045Z"
    }
   },
   "outputs": [],
   "source": [
    "categorical_cols=[\"route_type\",\"source_name\",\"destination_name\",\"source_center\",\"is_cutoff\"]\n"
   ]
  },
  {
   "cell_type": "code",
   "execution_count": null,
   "metadata": {},
   "outputs": [],
   "source": []
  },
  {
   "cell_type": "code",
   "execution_count": 11,
   "metadata": {
    "execution": {
     "iopub.execute_input": "2023-04-04T20:05:57.412060Z",
     "iopub.status.busy": "2023-04-04T20:05:57.411631Z",
     "iopub.status.idle": "2023-04-04T20:05:57.463569Z",
     "shell.execute_reply": "2023-04-04T20:05:57.462343Z",
     "shell.execute_reply.started": "2023-04-04T20:05:57.412021Z"
    }
   },
   "outputs": [
    {
     "data": {
      "text/plain": [
       "4439"
      ]
     },
     "execution_count": 11,
     "metadata": {},
     "output_type": "execute_result"
    }
   ],
   "source": [
    "from sklearn.preprocessing import OneHotEncoder\n",
    "encoder = OneHotEncoder(sparse=False, handle_unknown='ignore')\n",
    "encoder.fit(train_X[categorical_cols])\n",
    "encoded_cols = list(encoder.get_feature_names_out(categorical_cols))\n",
    "len(encoded_cols)"
   ]
  },
  {
   "cell_type": "code",
   "execution_count": 12,
   "metadata": {
    "execution": {
     "iopub.execute_input": "2023-04-04T20:06:01.080882Z",
     "iopub.status.busy": "2023-04-04T20:06:01.080166Z",
     "iopub.status.idle": "2023-04-04T20:06:17.576803Z",
     "shell.execute_reply": "2023-04-04T20:06:17.575693Z",
     "shell.execute_reply.started": "2023-04-04T20:06:01.080842Z"
    }
   },
   "outputs": [
    {
     "name": "stderr",
     "output_type": "stream",
     "text": [
      "/opt/conda/lib/python3.7/site-packages/pandas/core/frame.py:3678: PerformanceWarning: DataFrame is highly fragmented.  This is usually the result of calling `frame.insert` many times, which has poor performance.  Consider joining all columns at once using pd.concat(axis=1) instead.  To get a de-fragmented frame, use `newframe = frame.copy()`\n",
      "  self[col] = igetitem(value, i)\n"
     ]
    }
   ],
   "source": [
    "train_X[encoded_cols]=encoder.transform(train_X[categorical_cols]).copy()"
   ]
  },
  {
   "cell_type": "code",
   "execution_count": 13,
   "metadata": {
    "execution": {
     "iopub.execute_input": "2023-04-04T20:06:26.709793Z",
     "iopub.status.busy": "2023-04-04T20:06:26.709328Z",
     "iopub.status.idle": "2023-04-04T20:06:32.162203Z",
     "shell.execute_reply": "2023-04-04T20:06:32.160539Z",
     "shell.execute_reply.started": "2023-04-04T20:06:26.709742Z"
    }
   },
   "outputs": [
    {
     "name": "stderr",
     "output_type": "stream",
     "text": [
      "/opt/conda/lib/python3.7/site-packages/pandas/core/frame.py:3678: PerformanceWarning: DataFrame is highly fragmented.  This is usually the result of calling `frame.insert` many times, which has poor performance.  Consider joining all columns at once using pd.concat(axis=1) instead.  To get a de-fragmented frame, use `newframe = frame.copy()`\n",
      "  self[col] = igetitem(value, i)\n"
     ]
    }
   ],
   "source": [
    "val_X[encoded_cols]=encoder.transform(val_X[categorical_cols]).copy()"
   ]
  },
  {
   "cell_type": "code",
   "execution_count": null,
   "metadata": {},
   "outputs": [],
   "source": [
    "len(train_X.columns)"
   ]
  },
  {
   "cell_type": "code",
   "execution_count": null,
   "metadata": {},
   "outputs": [],
   "source": [
    "train_X.info()"
   ]
  },
  {
   "cell_type": "code",
   "execution_count": null,
   "metadata": {},
   "outputs": [],
   "source": [
    "import seaborn as sns\n",
    "sns.heatmap(train_df.corr(), cmap='Reds', annot=True)\n",
    "plt.title('Correlation Matrix');\n"
   ]
  },
  {
   "cell_type": "code",
   "execution_count": null,
   "metadata": {},
   "outputs": [],
   "source": [
    "from sklearn.impute import SimpleImputer\n",
    "imputer=SimpleImputer(strategy='mean')\n",
    "imputer.fit(train_df[numerical_cols])"
   ]
  },
  {
   "cell_type": "code",
   "execution_count": null,
   "metadata": {},
   "outputs": [],
   "source": [
    "train_df[numerical_cols]"
   ]
  },
  {
   "cell_type": "code",
   "execution_count": null,
   "metadata": {},
   "outputs": [],
   "source": []
  },
  {
   "cell_type": "code",
   "execution_count": null,
   "metadata": {},
   "outputs": [],
   "source": [
    "train_X[numerical_cols]=imputer.transform(train_X[numerical_cols])"
   ]
  },
  {
   "cell_type": "code",
   "execution_count": null,
   "metadata": {},
   "outputs": [],
   "source": [
    "val_X[numerical_cols]=imputer.transform(val_X[numerical_cols])"
   ]
  },
  {
   "cell_type": "code",
   "execution_count": null,
   "metadata": {},
   "outputs": [],
   "source": [
    "train_X.head()"
   ]
  },
  {
   "cell_type": "code",
   "execution_count": null,
   "metadata": {},
   "outputs": [],
   "source": [
    "val_X.head()"
   ]
  },
  {
   "cell_type": "code",
   "execution_count": null,
   "metadata": {},
   "outputs": [],
   "source": [
    "train_X[numerical_cols]"
   ]
  },
  {
   "cell_type": "code",
   "execution_count": null,
   "metadata": {},
   "outputs": [],
   "source": [
    "train_X[numerical_cols].describe().loc[['min', 'max']]"
   ]
  },
  {
   "cell_type": "code",
   "execution_count": 14,
   "metadata": {
    "execution": {
     "iopub.execute_input": "2023-04-04T20:07:14.000206Z",
     "iopub.status.busy": "2023-04-04T20:07:13.999732Z",
     "iopub.status.idle": "2023-04-04T20:07:14.031164Z",
     "shell.execute_reply": "2023-04-04T20:07:14.029964Z",
     "shell.execute_reply.started": "2023-04-04T20:07:14.000164Z"
    }
   },
   "outputs": [
    {
     "data": {
      "text/plain": [
       "MinMaxScaler()"
      ]
     },
     "execution_count": 14,
     "metadata": {},
     "output_type": "execute_result"
    }
   ],
   "source": [
    "from sklearn.preprocessing import MinMaxScaler\n",
    "scaler=MinMaxScaler()\n",
    "scaler.fit(train_df[numerical_cols])"
   ]
  },
  {
   "cell_type": "code",
   "execution_count": 15,
   "metadata": {
    "execution": {
     "iopub.execute_input": "2023-04-04T20:07:17.438925Z",
     "iopub.status.busy": "2023-04-04T20:07:17.438500Z",
     "iopub.status.idle": "2023-04-04T20:07:20.519511Z",
     "shell.execute_reply": "2023-04-04T20:07:20.518432Z",
     "shell.execute_reply.started": "2023-04-04T20:07:17.438888Z"
    }
   },
   "outputs": [],
   "source": [
    " train_X[numerical_cols]=scaler.transform(train_X[numerical_cols])"
   ]
  },
  {
   "cell_type": "code",
   "execution_count": 16,
   "metadata": {
    "execution": {
     "iopub.execute_input": "2023-04-04T20:08:09.474004Z",
     "iopub.status.busy": "2023-04-04T20:08:09.473075Z",
     "iopub.status.idle": "2023-04-04T20:08:10.153554Z",
     "shell.execute_reply": "2023-04-04T20:08:10.152471Z",
     "shell.execute_reply.started": "2023-04-04T20:08:09.473963Z"
    }
   },
   "outputs": [],
   "source": [
    "val_X[numerical_cols]=scaler.transform(val_X[numerical_cols])"
   ]
  },
  {
   "cell_type": "code",
   "execution_count": 17,
   "metadata": {
    "execution": {
     "iopub.execute_input": "2023-04-04T20:08:22.248327Z",
     "iopub.status.busy": "2023-04-04T20:08:22.247813Z",
     "iopub.status.idle": "2023-04-04T20:08:26.883003Z",
     "shell.execute_reply": "2023-04-04T20:08:26.880783Z",
     "shell.execute_reply.started": "2023-04-04T20:08:22.248277Z"
    }
   },
   "outputs": [
    {
     "data": {
      "text/html": [
       "<div>\n",
       "<style scoped>\n",
       "    .dataframe tbody tr th:only-of-type {\n",
       "        vertical-align: middle;\n",
       "    }\n",
       "\n",
       "    .dataframe tbody tr th {\n",
       "        vertical-align: top;\n",
       "    }\n",
       "\n",
       "    .dataframe thead th {\n",
       "        text-align: right;\n",
       "    }\n",
       "</style>\n",
       "<table border=\"1\" class=\"dataframe\">\n",
       "  <thead>\n",
       "    <tr style=\"text-align: right;\">\n",
       "      <th></th>\n",
       "      <th>start_scan_to_end_scan</th>\n",
       "      <th>cutoff_factor</th>\n",
       "      <th>actual_distance_to_destination</th>\n",
       "      <th>factor</th>\n",
       "      <th>segment_actual_time</th>\n",
       "      <th>segment_osrm_time</th>\n",
       "      <th>segment_osrm_distance</th>\n",
       "      <th>segment_factor</th>\n",
       "      <th>route_type_Carting</th>\n",
       "      <th>route_type_FTL</th>\n",
       "      <th>...</th>\n",
       "      <th>source_center_IND852201AAA</th>\n",
       "      <th>source_center_IND853204AAA</th>\n",
       "      <th>source_center_IND854105AAA</th>\n",
       "      <th>source_center_IND854105AAB</th>\n",
       "      <th>source_center_IND854311AAA</th>\n",
       "      <th>source_center_IND854326AAB</th>\n",
       "      <th>source_center_IND854334AAA</th>\n",
       "      <th>source_center_IND854335AAA</th>\n",
       "      <th>is_cutoff_False</th>\n",
       "      <th>is_cutoff_True</th>\n",
       "    </tr>\n",
       "  </thead>\n",
       "  <tbody>\n",
       "    <tr>\n",
       "      <th>44750</th>\n",
       "      <td>0.006601</td>\n",
       "      <td>0.006778</td>\n",
       "      <td>0.007507</td>\n",
       "      <td>0.016533</td>\n",
       "      <td>0.082246</td>\n",
       "      <td>0.011794</td>\n",
       "      <td>0.011722</td>\n",
       "      <td>0.041602</td>\n",
       "      <td>0.0</td>\n",
       "      <td>1.0</td>\n",
       "      <td>...</td>\n",
       "      <td>0.0</td>\n",
       "      <td>0.0</td>\n",
       "      <td>0.0</td>\n",
       "      <td>0.0</td>\n",
       "      <td>0.0</td>\n",
       "      <td>0.0</td>\n",
       "      <td>0.0</td>\n",
       "      <td>0.0</td>\n",
       "      <td>0.0</td>\n",
       "      <td>1.0</td>\n",
       "    </tr>\n",
       "    <tr>\n",
       "      <th>52928</th>\n",
       "      <td>0.021579</td>\n",
       "      <td>0.006778</td>\n",
       "      <td>0.007425</td>\n",
       "      <td>0.012192</td>\n",
       "      <td>0.085584</td>\n",
       "      <td>0.021726</td>\n",
       "      <td>0.021452</td>\n",
       "      <td>0.041041</td>\n",
       "      <td>0.0</td>\n",
       "      <td>1.0</td>\n",
       "      <td>...</td>\n",
       "      <td>0.0</td>\n",
       "      <td>0.0</td>\n",
       "      <td>0.0</td>\n",
       "      <td>0.0</td>\n",
       "      <td>0.0</td>\n",
       "      <td>0.0</td>\n",
       "      <td>0.0</td>\n",
       "      <td>0.0</td>\n",
       "      <td>0.0</td>\n",
       "      <td>1.0</td>\n",
       "    </tr>\n",
       "    <tr>\n",
       "      <th>137651</th>\n",
       "      <td>0.002285</td>\n",
       "      <td>0.006778</td>\n",
       "      <td>0.006819</td>\n",
       "      <td>0.016476</td>\n",
       "      <td>0.084370</td>\n",
       "      <td>0.014898</td>\n",
       "      <td>0.011024</td>\n",
       "      <td>0.041595</td>\n",
       "      <td>0.0</td>\n",
       "      <td>1.0</td>\n",
       "      <td>...</td>\n",
       "      <td>0.0</td>\n",
       "      <td>0.0</td>\n",
       "      <td>0.0</td>\n",
       "      <td>0.0</td>\n",
       "      <td>0.0</td>\n",
       "      <td>0.0</td>\n",
       "      <td>0.0</td>\n",
       "      <td>0.0</td>\n",
       "      <td>0.0</td>\n",
       "      <td>1.0</td>\n",
       "    </tr>\n",
       "    <tr>\n",
       "      <th>4690</th>\n",
       "      <td>0.218330</td>\n",
       "      <td>0.293535</td>\n",
       "      <td>0.294269</td>\n",
       "      <td>0.023655</td>\n",
       "      <td>0.089833</td>\n",
       "      <td>0.010552</td>\n",
       "      <td>0.011081</td>\n",
       "      <td>0.044343</td>\n",
       "      <td>0.0</td>\n",
       "      <td>1.0</td>\n",
       "      <td>...</td>\n",
       "      <td>0.0</td>\n",
       "      <td>0.0</td>\n",
       "      <td>0.0</td>\n",
       "      <td>0.0</td>\n",
       "      <td>0.0</td>\n",
       "      <td>0.0</td>\n",
       "      <td>0.0</td>\n",
       "      <td>0.0</td>\n",
       "      <td>0.0</td>\n",
       "      <td>1.0</td>\n",
       "    </tr>\n",
       "    <tr>\n",
       "      <th>125053</th>\n",
       "      <td>0.254125</td>\n",
       "      <td>0.075600</td>\n",
       "      <td>0.076281</td>\n",
       "      <td>0.023738</td>\n",
       "      <td>0.081335</td>\n",
       "      <td>0.009932</td>\n",
       "      <td>0.010935</td>\n",
       "      <td>0.041734</td>\n",
       "      <td>0.0</td>\n",
       "      <td>1.0</td>\n",
       "      <td>...</td>\n",
       "      <td>0.0</td>\n",
       "      <td>0.0</td>\n",
       "      <td>0.0</td>\n",
       "      <td>0.0</td>\n",
       "      <td>0.0</td>\n",
       "      <td>0.0</td>\n",
       "      <td>0.0</td>\n",
       "      <td>0.0</td>\n",
       "      <td>0.0</td>\n",
       "      <td>1.0</td>\n",
       "    </tr>\n",
       "    <tr>\n",
       "      <th>...</th>\n",
       "      <td>...</td>\n",
       "      <td>...</td>\n",
       "      <td>...</td>\n",
       "      <td>...</td>\n",
       "      <td>...</td>\n",
       "      <td>...</td>\n",
       "      <td>...</td>\n",
       "      <td>...</td>\n",
       "      <td>...</td>\n",
       "      <td>...</td>\n",
       "      <td>...</td>\n",
       "      <td>...</td>\n",
       "      <td>...</td>\n",
       "      <td>...</td>\n",
       "      <td>...</td>\n",
       "      <td>...</td>\n",
       "      <td>...</td>\n",
       "      <td>...</td>\n",
       "      <td>...</td>\n",
       "      <td>...</td>\n",
       "      <td>...</td>\n",
       "    </tr>\n",
       "    <tr>\n",
       "      <th>41993</th>\n",
       "      <td>0.053186</td>\n",
       "      <td>0.041189</td>\n",
       "      <td>0.041858</td>\n",
       "      <td>0.033361</td>\n",
       "      <td>0.107436</td>\n",
       "      <td>0.016760</td>\n",
       "      <td>0.017960</td>\n",
       "      <td>0.046041</td>\n",
       "      <td>0.0</td>\n",
       "      <td>1.0</td>\n",
       "      <td>...</td>\n",
       "      <td>0.0</td>\n",
       "      <td>0.0</td>\n",
       "      <td>0.0</td>\n",
       "      <td>0.0</td>\n",
       "      <td>0.0</td>\n",
       "      <td>0.0</td>\n",
       "      <td>0.0</td>\n",
       "      <td>0.0</td>\n",
       "      <td>0.0</td>\n",
       "      <td>1.0</td>\n",
       "    </tr>\n",
       "    <tr>\n",
       "      <th>97639</th>\n",
       "      <td>0.324321</td>\n",
       "      <td>0.236184</td>\n",
       "      <td>0.236490</td>\n",
       "      <td>0.023261</td>\n",
       "      <td>0.084370</td>\n",
       "      <td>0.009932</td>\n",
       "      <td>0.010693</td>\n",
       "      <td>0.042780</td>\n",
       "      <td>0.0</td>\n",
       "      <td>1.0</td>\n",
       "      <td>...</td>\n",
       "      <td>0.0</td>\n",
       "      <td>0.0</td>\n",
       "      <td>0.0</td>\n",
       "      <td>0.0</td>\n",
       "      <td>0.0</td>\n",
       "      <td>0.0</td>\n",
       "      <td>0.0</td>\n",
       "      <td>0.0</td>\n",
       "      <td>0.0</td>\n",
       "      <td>1.0</td>\n",
       "    </tr>\n",
       "    <tr>\n",
       "      <th>95939</th>\n",
       "      <td>0.047220</td>\n",
       "      <td>0.029718</td>\n",
       "      <td>0.030408</td>\n",
       "      <td>0.020693</td>\n",
       "      <td>0.085281</td>\n",
       "      <td>0.010552</td>\n",
       "      <td>0.011454</td>\n",
       "      <td>0.042866</td>\n",
       "      <td>0.0</td>\n",
       "      <td>1.0</td>\n",
       "      <td>...</td>\n",
       "      <td>0.0</td>\n",
       "      <td>0.0</td>\n",
       "      <td>0.0</td>\n",
       "      <td>0.0</td>\n",
       "      <td>0.0</td>\n",
       "      <td>0.0</td>\n",
       "      <td>0.0</td>\n",
       "      <td>0.0</td>\n",
       "      <td>0.0</td>\n",
       "      <td>1.0</td>\n",
       "    </tr>\n",
       "    <tr>\n",
       "      <th>117952</th>\n",
       "      <td>0.319370</td>\n",
       "      <td>0.603233</td>\n",
       "      <td>0.603296</td>\n",
       "      <td>0.028649</td>\n",
       "      <td>0.082549</td>\n",
       "      <td>0.009311</td>\n",
       "      <td>0.010108</td>\n",
       "      <td>0.042348</td>\n",
       "      <td>0.0</td>\n",
       "      <td>1.0</td>\n",
       "      <td>...</td>\n",
       "      <td>0.0</td>\n",
       "      <td>0.0</td>\n",
       "      <td>0.0</td>\n",
       "      <td>0.0</td>\n",
       "      <td>0.0</td>\n",
       "      <td>0.0</td>\n",
       "      <td>0.0</td>\n",
       "      <td>0.0</td>\n",
       "      <td>0.0</td>\n",
       "      <td>1.0</td>\n",
       "    </tr>\n",
       "    <tr>\n",
       "      <th>43567</th>\n",
       "      <td>0.132521</td>\n",
       "      <td>0.225235</td>\n",
       "      <td>0.225665</td>\n",
       "      <td>0.026531</td>\n",
       "      <td>0.076783</td>\n",
       "      <td>0.001241</td>\n",
       "      <td>0.001681</td>\n",
       "      <td>0.046754</td>\n",
       "      <td>0.0</td>\n",
       "      <td>1.0</td>\n",
       "      <td>...</td>\n",
       "      <td>0.0</td>\n",
       "      <td>0.0</td>\n",
       "      <td>0.0</td>\n",
       "      <td>0.0</td>\n",
       "      <td>0.0</td>\n",
       "      <td>0.0</td>\n",
       "      <td>0.0</td>\n",
       "      <td>0.0</td>\n",
       "      <td>1.0</td>\n",
       "      <td>0.0</td>\n",
       "    </tr>\n",
       "  </tbody>\n",
       "</table>\n",
       "<p>115893 rows × 4447 columns</p>\n",
       "</div>"
      ],
      "text/plain": [
       "        start_scan_to_end_scan  cutoff_factor  actual_distance_to_destination  \\\n",
       "44750                 0.006601       0.006778                        0.007507   \n",
       "52928                 0.021579       0.006778                        0.007425   \n",
       "137651                0.002285       0.006778                        0.006819   \n",
       "4690                  0.218330       0.293535                        0.294269   \n",
       "125053                0.254125       0.075600                        0.076281   \n",
       "...                        ...            ...                             ...   \n",
       "41993                 0.053186       0.041189                        0.041858   \n",
       "97639                 0.324321       0.236184                        0.236490   \n",
       "95939                 0.047220       0.029718                        0.030408   \n",
       "117952                0.319370       0.603233                        0.603296   \n",
       "43567                 0.132521       0.225235                        0.225665   \n",
       "\n",
       "          factor  segment_actual_time  segment_osrm_time  \\\n",
       "44750   0.016533             0.082246           0.011794   \n",
       "52928   0.012192             0.085584           0.021726   \n",
       "137651  0.016476             0.084370           0.014898   \n",
       "4690    0.023655             0.089833           0.010552   \n",
       "125053  0.023738             0.081335           0.009932   \n",
       "...          ...                  ...                ...   \n",
       "41993   0.033361             0.107436           0.016760   \n",
       "97639   0.023261             0.084370           0.009932   \n",
       "95939   0.020693             0.085281           0.010552   \n",
       "117952  0.028649             0.082549           0.009311   \n",
       "43567   0.026531             0.076783           0.001241   \n",
       "\n",
       "        segment_osrm_distance  segment_factor  route_type_Carting  \\\n",
       "44750                0.011722        0.041602                 0.0   \n",
       "52928                0.021452        0.041041                 0.0   \n",
       "137651               0.011024        0.041595                 0.0   \n",
       "4690                 0.011081        0.044343                 0.0   \n",
       "125053               0.010935        0.041734                 0.0   \n",
       "...                       ...             ...                 ...   \n",
       "41993                0.017960        0.046041                 0.0   \n",
       "97639                0.010693        0.042780                 0.0   \n",
       "95939                0.011454        0.042866                 0.0   \n",
       "117952               0.010108        0.042348                 0.0   \n",
       "43567                0.001681        0.046754                 0.0   \n",
       "\n",
       "        route_type_FTL  ...  source_center_IND852201AAA  \\\n",
       "44750              1.0  ...                         0.0   \n",
       "52928              1.0  ...                         0.0   \n",
       "137651             1.0  ...                         0.0   \n",
       "4690               1.0  ...                         0.0   \n",
       "125053             1.0  ...                         0.0   \n",
       "...                ...  ...                         ...   \n",
       "41993              1.0  ...                         0.0   \n",
       "97639              1.0  ...                         0.0   \n",
       "95939              1.0  ...                         0.0   \n",
       "117952             1.0  ...                         0.0   \n",
       "43567              1.0  ...                         0.0   \n",
       "\n",
       "        source_center_IND853204AAA  source_center_IND854105AAA  \\\n",
       "44750                          0.0                         0.0   \n",
       "52928                          0.0                         0.0   \n",
       "137651                         0.0                         0.0   \n",
       "4690                           0.0                         0.0   \n",
       "125053                         0.0                         0.0   \n",
       "...                            ...                         ...   \n",
       "41993                          0.0                         0.0   \n",
       "97639                          0.0                         0.0   \n",
       "95939                          0.0                         0.0   \n",
       "117952                         0.0                         0.0   \n",
       "43567                          0.0                         0.0   \n",
       "\n",
       "        source_center_IND854105AAB  source_center_IND854311AAA  \\\n",
       "44750                          0.0                         0.0   \n",
       "52928                          0.0                         0.0   \n",
       "137651                         0.0                         0.0   \n",
       "4690                           0.0                         0.0   \n",
       "125053                         0.0                         0.0   \n",
       "...                            ...                         ...   \n",
       "41993                          0.0                         0.0   \n",
       "97639                          0.0                         0.0   \n",
       "95939                          0.0                         0.0   \n",
       "117952                         0.0                         0.0   \n",
       "43567                          0.0                         0.0   \n",
       "\n",
       "        source_center_IND854326AAB  source_center_IND854334AAA  \\\n",
       "44750                          0.0                         0.0   \n",
       "52928                          0.0                         0.0   \n",
       "137651                         0.0                         0.0   \n",
       "4690                           0.0                         0.0   \n",
       "125053                         0.0                         0.0   \n",
       "...                            ...                         ...   \n",
       "41993                          0.0                         0.0   \n",
       "97639                          0.0                         0.0   \n",
       "95939                          0.0                         0.0   \n",
       "117952                         0.0                         0.0   \n",
       "43567                          0.0                         0.0   \n",
       "\n",
       "        source_center_IND854335AAA  is_cutoff_False  is_cutoff_True  \n",
       "44750                          0.0              0.0             1.0  \n",
       "52928                          0.0              0.0             1.0  \n",
       "137651                         0.0              0.0             1.0  \n",
       "4690                           0.0              0.0             1.0  \n",
       "125053                         0.0              0.0             1.0  \n",
       "...                            ...              ...             ...  \n",
       "41993                          0.0              0.0             1.0  \n",
       "97639                          0.0              0.0             1.0  \n",
       "95939                          0.0              0.0             1.0  \n",
       "117952                         0.0              0.0             1.0  \n",
       "43567                          0.0              1.0             0.0  \n",
       "\n",
       "[115893 rows x 4447 columns]"
      ]
     },
     "execution_count": 17,
     "metadata": {},
     "output_type": "execute_result"
    }
   ],
   "source": [
    "train_X[numerical_cols+encoded_cols]"
   ]
  },
  {
   "cell_type": "code",
   "execution_count": null,
   "metadata": {},
   "outputs": [],
   "source": [
    "train_X[encoded_cols]"
   ]
  },
  {
   "cell_type": "code",
   "execution_count": null,
   "metadata": {},
   "outputs": [],
   "source": [
    "train_df.info()"
   ]
  },
  {
   "cell_type": "code",
   "execution_count": null,
   "metadata": {},
   "outputs": [],
   "source": []
  },
  {
   "cell_type": "code",
   "execution_count": 18,
   "metadata": {
    "execution": {
     "iopub.execute_input": "2023-04-04T20:08:40.177006Z",
     "iopub.status.busy": "2023-04-04T20:08:40.176055Z",
     "iopub.status.idle": "2023-04-04T20:08:41.852050Z",
     "shell.execute_reply": "2023-04-04T20:08:41.850757Z",
     "shell.execute_reply.started": "2023-04-04T20:08:40.176961Z"
    }
   },
   "outputs": [],
   "source": [
    "inputs=train_X[numerical_cols+encoded_cols]\n",
    "targets=train_y"
   ]
  },
  {
   "cell_type": "code",
   "execution_count": 19,
   "metadata": {
    "execution": {
     "iopub.execute_input": "2023-04-04T20:10:09.928258Z",
     "iopub.status.busy": "2023-04-04T20:10:09.927686Z",
     "iopub.status.idle": "2023-04-04T20:10:10.173005Z",
     "shell.execute_reply": "2023-04-04T20:10:10.171989Z",
     "shell.execute_reply.started": "2023-04-04T20:10:09.928182Z"
    }
   },
   "outputs": [],
   "source": [
    "from sklearn.tree import DecisionTreeRegressor\n"
   ]
  },
  {
   "cell_type": "markdown",
   "metadata": {},
   "source": [
    "Decision Tree Regressor got more error so discarded it. Similarly with xgboost."
   ]
  },
  {
   "cell_type": "code",
   "execution_count": null,
   "metadata": {},
   "outputs": [],
   "source": [
    "from sklearn.ensemble import RandomForestRegressor"
   ]
  },
  {
   "cell_type": "code",
   "execution_count": 20,
   "metadata": {
    "execution": {
     "iopub.execute_input": "2023-04-04T20:10:17.787787Z",
     "iopub.status.busy": "2023-04-04T20:10:17.787242Z",
     "iopub.status.idle": "2023-04-04T20:10:55.034928Z",
     "shell.execute_reply": "2023-04-04T20:10:55.033460Z",
     "shell.execute_reply.started": "2023-04-04T20:10:17.787738Z"
    }
   },
   "outputs": [],
   "source": [
    "model = RandomForestRegressor(n_estimators=600,max_depth=10)\n",
    "model.fit(inputs,targets)\n",
    "preds=model.predict(inputs)\n"
   ]
  },
  {
   "cell_type": "code",
   "execution_count": 21,
   "metadata": {
    "execution": {
     "iopub.execute_input": "2023-04-04T20:11:03.355901Z",
     "iopub.status.busy": "2023-04-04T20:11:03.355423Z",
     "iopub.status.idle": "2023-04-04T20:11:03.367214Z",
     "shell.execute_reply": "2023-04-04T20:11:03.365978Z",
     "shell.execute_reply.started": "2023-04-04T20:11:03.355857Z"
    }
   },
   "outputs": [],
   "source": [
    "from sklearn.metrics import mean_squared_error\n",
    "rmse=mean_squared_error(preds,train_y,squared=False)"
   ]
  },
  {
   "cell_type": "code",
   "execution_count": null,
   "metadata": {},
   "outputs": [],
   "source": [
    "rmse"
   ]
  },
  {
   "cell_type": "code",
   "execution_count": 23,
   "metadata": {
    "execution": {
     "iopub.execute_input": "2023-04-04T20:11:17.292693Z",
     "iopub.status.busy": "2023-04-04T20:11:17.291415Z",
     "iopub.status.idle": "2023-04-04T20:11:18.690598Z",
     "shell.execute_reply": "2023-04-04T20:11:18.689237Z",
     "shell.execute_reply.started": "2023-04-04T20:11:17.292637Z"
    }
   },
   "outputs": [],
   "source": [
    "preds2=model.predict(val_X[numerical_cols+encoded_cols])"
   ]
  },
  {
   "cell_type": "markdown",
   "metadata": {},
   "source": []
  },
  {
   "cell_type": "code",
   "execution_count": 24,
   "metadata": {
    "execution": {
     "iopub.execute_input": "2023-04-04T20:11:19.559647Z",
     "iopub.status.busy": "2023-04-04T20:11:19.558773Z",
     "iopub.status.idle": "2023-04-04T20:11:19.568799Z",
     "shell.execute_reply": "2023-04-04T20:11:19.567405Z",
     "shell.execute_reply.started": "2023-04-04T20:11:19.559599Z"
    }
   },
   "outputs": [],
   "source": [
    "rmse2=mean_squared_error(preds2,val_y,squared=False)"
   ]
  },
  {
   "cell_type": "code",
   "execution_count": 25,
   "metadata": {
    "execution": {
     "iopub.execute_input": "2023-04-04T20:11:21.669815Z",
     "iopub.status.busy": "2023-04-04T20:11:21.669369Z",
     "iopub.status.idle": "2023-04-04T20:11:21.677598Z",
     "shell.execute_reply": "2023-04-04T20:11:21.676037Z",
     "shell.execute_reply.started": "2023-04-04T20:11:21.669773Z"
    }
   },
   "outputs": [
    {
     "data": {
      "text/plain": [
       "32.04227293404991"
      ]
     },
     "execution_count": 25,
     "metadata": {},
     "output_type": "execute_result"
    }
   ],
   "source": [
    "rmse2"
   ]
  },
  {
   "cell_type": "code",
   "execution_count": null,
   "metadata": {},
   "outputs": [],
   "source": [
    "coeff=model.feature_importances_"
   ]
  },
  {
   "cell_type": "code",
   "execution_count": null,
   "metadata": {},
   "outputs": [],
   "source": [
    "importance_df = pd.DataFrame({\n",
    "    'feature':numerical_cols+encoded_cols,\n",
    "    'importance': model.feature_importances_\n",
    "}).sort_values('importance', ascending=False)"
   ]
  },
  {
   "cell_type": "code",
   "execution_count": null,
   "metadata": {},
   "outputs": [],
   "source": [
    "importance_df.head(20)"
   ]
  },
  {
   "cell_type": "code",
   "execution_count": null,
   "metadata": {},
   "outputs": [],
   "source": []
  },
  {
   "cell_type": "code",
   "execution_count": 26,
   "metadata": {
    "execution": {
     "iopub.execute_input": "2023-04-04T20:11:34.015034Z",
     "iopub.status.busy": "2023-04-04T20:11:34.014591Z",
     "iopub.status.idle": "2023-04-04T20:11:35.271344Z",
     "shell.execute_reply": "2023-04-04T20:11:35.270024Z",
     "shell.execute_reply.started": "2023-04-04T20:11:34.014995Z"
    }
   },
   "outputs": [],
   "source": [
    "test_df=pd.read_csv(\"/kaggle/input/cassandra23-ps-2/dataset/test_data.csv\")"
   ]
  },
  {
   "cell_type": "code",
   "execution_count": 27,
   "metadata": {
    "execution": {
     "iopub.execute_input": "2023-04-04T20:11:38.943864Z",
     "iopub.status.busy": "2023-04-04T20:11:38.943381Z",
     "iopub.status.idle": "2023-04-04T20:11:48.210799Z",
     "shell.execute_reply": "2023-04-04T20:11:48.209525Z",
     "shell.execute_reply.started": "2023-04-04T20:11:38.943830Z"
    }
   },
   "outputs": [
    {
     "name": "stderr",
     "output_type": "stream",
     "text": [
      "/opt/conda/lib/python3.7/site-packages/pandas/core/frame.py:3678: PerformanceWarning: DataFrame is highly fragmented.  This is usually the result of calling `frame.insert` many times, which has poor performance.  Consider joining all columns at once using pd.concat(axis=1) instead.  To get a de-fragmented frame, use `newframe = frame.copy()`\n",
      "  self[col] = igetitem(value, i)\n"
     ]
    }
   ],
   "source": [
    "test_df[encoded_cols]=encoder.transform(test_df[categorical_cols]).copy()"
   ]
  },
  {
   "cell_type": "code",
   "execution_count": 28,
   "metadata": {
    "execution": {
     "iopub.execute_input": "2023-04-04T20:11:56.018057Z",
     "iopub.status.busy": "2023-04-04T20:11:56.017284Z",
     "iopub.status.idle": "2023-04-04T20:11:57.836720Z",
     "shell.execute_reply": "2023-04-04T20:11:57.835637Z",
     "shell.execute_reply.started": "2023-04-04T20:11:56.018011Z"
    }
   },
   "outputs": [],
   "source": [
    "test_df[numerical_cols]=scaler.transform(test_df[numerical_cols])"
   ]
  },
  {
   "cell_type": "code",
   "execution_count": null,
   "metadata": {},
   "outputs": [],
   "source": [
    "test_df[numerical_cols]"
   ]
  },
  {
   "cell_type": "code",
   "execution_count": null,
   "metadata": {},
   "outputs": [],
   "source": [
    "test_df.head(4)"
   ]
  },
  {
   "cell_type": "code",
   "execution_count": 29,
   "metadata": {
    "execution": {
     "iopub.execute_input": "2023-04-04T20:12:09.623429Z",
     "iopub.status.busy": "2023-04-04T20:12:09.622806Z",
     "iopub.status.idle": "2023-04-04T20:12:13.236768Z",
     "shell.execute_reply": "2023-04-04T20:12:13.235431Z",
     "shell.execute_reply.started": "2023-04-04T20:12:09.623385Z"
    }
   },
   "outputs": [],
   "source": [
    "y_preds=model.predict(test_df[numerical_cols+encoded_cols])"
   ]
  },
  {
   "cell_type": "code",
   "execution_count": 30,
   "metadata": {
    "execution": {
     "iopub.execute_input": "2023-04-04T20:12:15.562672Z",
     "iopub.status.busy": "2023-04-04T20:12:15.561580Z",
     "iopub.status.idle": "2023-04-04T20:12:15.568760Z",
     "shell.execute_reply": "2023-04-04T20:12:15.567926Z",
     "shell.execute_reply.started": "2023-04-04T20:12:15.562626Z"
    }
   },
   "outputs": [
    {
     "data": {
      "text/plain": [
       "array([ 40.,  68.,  15., ...,  70.,  94., 140.])"
      ]
     },
     "execution_count": 30,
     "metadata": {},
     "output_type": "execute_result"
    }
   ],
   "source": [
    "y_preds"
   ]
  },
  {
   "cell_type": "code",
   "execution_count": null,
   "metadata": {},
   "outputs": [],
   "source": [
    "y_preds=abs(y_preds)"
   ]
  },
  {
   "cell_type": "code",
   "execution_count": 31,
   "metadata": {
    "execution": {
     "iopub.execute_input": "2023-04-04T20:12:24.694804Z",
     "iopub.status.busy": "2023-04-04T20:12:24.694348Z",
     "iopub.status.idle": "2023-04-04T20:12:24.702299Z",
     "shell.execute_reply": "2023-04-04T20:12:24.701069Z",
     "shell.execute_reply.started": "2023-04-04T20:12:24.694764Z"
    }
   },
   "outputs": [],
   "source": [
    "data = {'UID': test_df[\"UID\"],\n",
    "        'actual_time': y_preds}\n",
    "df = pd.DataFrame(data)"
   ]
  },
  {
   "cell_type": "code",
   "execution_count": 32,
   "metadata": {
    "execution": {
     "iopub.execute_input": "2023-04-04T20:12:27.587806Z",
     "iopub.status.busy": "2023-04-04T20:12:27.587397Z",
     "iopub.status.idle": "2023-04-04T20:12:28.107251Z",
     "shell.execute_reply": "2023-04-04T20:12:28.105894Z",
     "shell.execute_reply.started": "2023-04-04T20:12:27.587770Z"
    }
   },
   "outputs": [
    {
     "data": {
      "text/plain": [
       "0.9971598082685669"
      ]
     },
     "execution_count": 32,
     "metadata": {},
     "output_type": "execute_result"
    }
   ],
   "source": [
    "model.score(val_X[numerical_cols+encoded_cols],val_y)"
   ]
  },
  {
   "cell_type": "code",
   "execution_count": 33,
   "metadata": {
    "execution": {
     "iopub.execute_input": "2023-04-04T20:12:31.905614Z",
     "iopub.status.busy": "2023-04-04T20:12:31.905159Z",
     "iopub.status.idle": "2023-04-04T20:12:31.923821Z",
     "shell.execute_reply": "2023-04-04T20:12:31.922535Z",
     "shell.execute_reply.started": "2023-04-04T20:12:31.905575Z"
    }
   },
   "outputs": [
    {
     "data": {
      "text/html": [
       "<div>\n",
       "<style scoped>\n",
       "    .dataframe tbody tr th:only-of-type {\n",
       "        vertical-align: middle;\n",
       "    }\n",
       "\n",
       "    .dataframe tbody tr th {\n",
       "        vertical-align: top;\n",
       "    }\n",
       "\n",
       "    .dataframe thead th {\n",
       "        text-align: right;\n",
       "    }\n",
       "</style>\n",
       "<table border=\"1\" class=\"dataframe\">\n",
       "  <thead>\n",
       "    <tr style=\"text-align: right;\">\n",
       "      <th></th>\n",
       "      <th>UID</th>\n",
       "      <th>actual_time</th>\n",
       "    </tr>\n",
       "  </thead>\n",
       "  <tbody>\n",
       "    <tr>\n",
       "      <th>0</th>\n",
       "      <td>XMsT9clviB</td>\n",
       "      <td>40.0</td>\n",
       "    </tr>\n",
       "    <tr>\n",
       "      <th>1</th>\n",
       "      <td>1iUuyRUZ2Y</td>\n",
       "      <td>68.0</td>\n",
       "    </tr>\n",
       "    <tr>\n",
       "      <th>2</th>\n",
       "      <td>wancwiAIU3</td>\n",
       "      <td>15.0</td>\n",
       "    </tr>\n",
       "    <tr>\n",
       "      <th>3</th>\n",
       "      <td>1tIt8EwJjB</td>\n",
       "      <td>76.0</td>\n",
       "    </tr>\n",
       "    <tr>\n",
       "      <th>4</th>\n",
       "      <td>W2vL6bJrjt</td>\n",
       "      <td>38.0</td>\n",
       "    </tr>\n",
       "    <tr>\n",
       "      <th>...</th>\n",
       "      <td>...</td>\n",
       "      <td>...</td>\n",
       "    </tr>\n",
       "    <tr>\n",
       "      <th>72153</th>\n",
       "      <td>L5IrEpNBFb</td>\n",
       "      <td>44.0</td>\n",
       "    </tr>\n",
       "    <tr>\n",
       "      <th>72154</th>\n",
       "      <td>s5TDXjnN3s</td>\n",
       "      <td>52.0</td>\n",
       "    </tr>\n",
       "    <tr>\n",
       "      <th>72155</th>\n",
       "      <td>0croXy5yK5</td>\n",
       "      <td>70.0</td>\n",
       "    </tr>\n",
       "    <tr>\n",
       "      <th>72156</th>\n",
       "      <td>P0okvBa2Ik</td>\n",
       "      <td>94.0</td>\n",
       "    </tr>\n",
       "    <tr>\n",
       "      <th>72157</th>\n",
       "      <td>OVi46puumU</td>\n",
       "      <td>140.0</td>\n",
       "    </tr>\n",
       "  </tbody>\n",
       "</table>\n",
       "<p>72158 rows × 2 columns</p>\n",
       "</div>"
      ],
      "text/plain": [
       "              UID  actual_time\n",
       "0      XMsT9clviB         40.0\n",
       "1      1iUuyRUZ2Y         68.0\n",
       "2      wancwiAIU3         15.0\n",
       "3      1tIt8EwJjB         76.0\n",
       "4      W2vL6bJrjt         38.0\n",
       "...           ...          ...\n",
       "72153  L5IrEpNBFb         44.0\n",
       "72154  s5TDXjnN3s         52.0\n",
       "72155  0croXy5yK5         70.0\n",
       "72156  P0okvBa2Ik         94.0\n",
       "72157  OVi46puumU        140.0\n",
       "\n",
       "[72158 rows x 2 columns]"
      ]
     },
     "execution_count": 33,
     "metadata": {},
     "output_type": "execute_result"
    }
   ],
   "source": [
    "df"
   ]
  },
  {
   "cell_type": "code",
   "execution_count": 34,
   "metadata": {
    "execution": {
     "iopub.execute_input": "2023-04-04T20:12:38.497313Z",
     "iopub.status.busy": "2023-04-04T20:12:38.496510Z",
     "iopub.status.idle": "2023-04-04T20:12:38.621694Z",
     "shell.execute_reply": "2023-04-04T20:12:38.620304Z",
     "shell.execute_reply.started": "2023-04-04T20:12:38.497271Z"
    }
   },
   "outputs": [],
   "source": [
    "df.to_csv(\"submission15.csv\", index =False)"
   ]
  },
  {
   "cell_type": "code",
   "execution_count": null,
   "metadata": {},
   "outputs": [],
   "source": []
  }
 ],
 "metadata": {
  "kernelspec": {
   "display_name": "Python 3 (ipykernel)",
   "language": "python",
   "name": "python3"
  },
  "language_info": {
   "codemirror_mode": {
    "name": "ipython",
    "version": 3
   },
   "file_extension": ".py",
   "mimetype": "text/x-python",
   "name": "python",
   "nbconvert_exporter": "python",
   "pygments_lexer": "ipython3",
   "version": "3.9.7"
  }
 },
 "nbformat": 4,
 "nbformat_minor": 4
}
